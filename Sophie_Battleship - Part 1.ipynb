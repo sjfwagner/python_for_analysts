{
 "cells": [
  {
   "cell_type": "markdown",
   "metadata": {},
   "source": [
    "<i>All rights reserved. No part of this material may be reproduced, distributed, or transmitted in any form or by any means, including photocopying, recording, or other electronic or mechanical methods, without the prior written permission of Booz Allen Hamilton, Inc. </i>"
   ]
  },
  {
   "cell_type": "markdown",
   "metadata": {},
   "source": [
    "<center><font color=\"#00A9F4\" size=12><b>Python for Analysts</b></font></center>\n",
    "<center><h1><font color=\"#003F72\">Battleship - Part 1</font></h1></center>"
   ]
  },
  {
   "cell_type": "markdown",
   "metadata": {},
   "source": [
    "## Instructions\n",
    "Use everything we've learned thus far to create your own version of Battle Ship! In Part 1, we will be creating a five x five board and trying to guess the location of one ship. The ship will only cover one coordinate (i.e. A5). Can you sink my Batlle Ship?\n",
    "\n",
    "## Tool Kit:\n",
    "* List: initialization, functions\n",
    "* Strings: concatination, upper/lower case\n",
    "* Conditionals\n",
    "* Loops: for, while\n",
    "* User Input\n",
    "* Libraries:random, math"
   ]
  },
  {
   "cell_type": "code",
   "execution_count": null,
   "metadata": {
    "collapsed": true
   },
   "outputs": [],
   "source": [
    "#IMPORTS \n",
    "#Run this first\n",
    "import numpy as np\n",
    "import matplotlib.pyplot as plt\n",
    "import pandas as pd\n",
    "from pandas import DataFrame, Series \n",
    "import random"
   ]
  },
  {
   "cell_type": "code",
   "execution_count": null,
   "metadata": {
    "collapsed": false
   },
   "outputs": [],
   "source": [
    "#CREATING THE BOARD\n",
    "\n",
    "#Add the numbers 1 - 5 to a list for the rows\n",
    "rows =\n",
    "\n",
    "#Add the capital letters from A - E to a list for the columns\n",
    "columns =\n",
    "\n",
    "board = []\n",
    "#Use loop and string operations to populate board with a 5x5 list of lists with all entrys as the letter \"O\" \n"
   ]
  },
  {
   "cell_type": "code",
   "execution_count": null,
   "metadata": {
    "collapsed": false
   },
   "outputs": [],
   "source": [
    "#PRINTING THE BOARD\n",
    "\n",
    "#Define a function that you can call later to print the board\n",
    "def print_board (board):\n",
    "    \n",
    "    #Print the letters from the columns list in one row along the top\n",
    "    \n",
    "    #Print the row number and the board row\n",
    "    "
   ]
  },
  {
   "cell_type": "code",
   "execution_count": null,
   "metadata": {
    "collapsed": false
   },
   "outputs": [],
   "source": [
    "#TEST YOUR PRINT FUNCTION\n",
    "\n",
    "print_board(board)"
   ]
  },
  {
   "cell_type": "code",
   "execution_count": null,
   "metadata": {
    "collapsed": false
   },
   "outputs": [],
   "source": [
    "#PANDAS\n",
    "\n",
    "#This is pandas. Look how easy it is. Okay now we aren't going to talk about it again until the end of the course!\n",
    "\n",
    "df = DataFrame(board, columns = columns, index = rows)\n",
    "df"
   ]
  },
  {
   "cell_type": "code",
   "execution_count": null,
   "metadata": {
    "collapsed": false
   },
   "outputs": [],
   "source": [
    "#GENERATE POINT FOR BATTLESHIP\n",
    "\n",
    "#Use help function to find the needed methods from random\n",
    "help(random)\n",
    "\n",
    "#Randomly generate a letter from the columns list\n",
    "battleship_x \n",
    "\n",
    "#Randomly pick a number from the rows list\n",
    "battleship_y \n",
    "\n",
    "#Combine the row and column into a coordinate string\n",
    "battleship_coordinate \n",
    "\n"
   ]
  },
  {
   "cell_type": "code",
   "execution_count": null,
   "metadata": {
    "collapsed": false
   },
   "outputs": [],
   "source": [
    "#CREATE A LOOP TO GUESS THE BATTLESHIP LOCATION\n",
    "\n",
    "#Create a list to hold previous guesses\n",
    "prevGuesses = \n",
    "\n",
    "#Loop with a maximum number of guesses\n",
    "    \n",
    "    #Take user input \"Coordinate: __\"\n",
    "    \n",
    "    #Create a way to exit the loop if the user gives up\n",
    "    \n",
    "    \n",
    "    #Add guess to the prevGuesses list\n",
    "    \n",
    "    #Set the guess to upper case\n",
    "    \n",
    "    #Remove any spaces before or after the coordinate\n",
    "    \n",
    "    #If the guess is correct, print out \"Congratulations! You sunk my battleship!\" and exit loop\n",
    "    \n",
    "    \n",
    "    #If the guess is incorrect \n",
    "    \n",
    "        #Get the index of each part of the guess in its respective lists (rows and columns) \n",
    "        #This is confusing, ask for help if you get frustrated\n",
    "        \n",
    "        \n",
    "        #If you've already guessed this, print \"You guessed that one already.\"\n",
    "        #If this is your first time guessing this, print \"You missed my battleship!\"\n",
    "        #Print the board followed by an extra line for space\n",
    "        \n",
    "    "
   ]
  }
 ],
 "metadata": {
  "anaconda-cloud": {},
  "kernelspec": {
   "display_name": "Python [default]",
   "language": "python",
   "name": "python3"
  },
  "language_info": {
   "codemirror_mode": {
    "name": "ipython",
    "version": 3
   },
   "file_extension": ".py",
   "mimetype": "text/x-python",
   "name": "python",
   "nbconvert_exporter": "python",
   "pygments_lexer": "ipython3",
   "version": "3.5.2"
  }
 },
 "nbformat": 4,
 "nbformat_minor": 1
}
